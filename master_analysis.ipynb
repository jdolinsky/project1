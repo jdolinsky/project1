{
 "cells": [
  {
   "cell_type": "code",
   "execution_count": 1,
   "id": "c2c42f8b",
   "metadata": {},
   "outputs": [],
   "source": [
    "import pandas as pd\n",
    "import numpy as np\n",
    "\n",
    "# Define the number of rows and columns in the DataFrame\n",
    "num_rows = 5\n",
    "num_columns = 3\n",
    "\n",
    "# Create a DataFrame with random numbers using NumPy\n",
    "data = np.random.rand(num_rows, num_columns)\n",
    "\n",
    "# Create column names (you can customize these)\n",
    "column_names = ['Column1', 'Column2', 'Column3']\n",
    "\n",
    "# Create the DataFrame\n",
    "df = pd.DataFrame(data, columns=column_names)\n",
    "\n",
    "df.to_csv('final_data.csv', index=False)"
   ]
  },
  {
   "cell_type": "code",
   "execution_count": null,
   "id": "c4a828cc",
   "metadata": {},
   "outputs": [],
   "source": []
  }
 ],
 "metadata": {
  "kernelspec": {
   "display_name": "Python 3 (ipykernel)",
   "language": "python",
   "name": "python3"
  },
  "language_info": {
   "codemirror_mode": {
    "name": "ipython",
    "version": 3
   },
   "file_extension": ".py",
   "mimetype": "text/x-python",
   "name": "python",
   "nbconvert_exporter": "python",
   "pygments_lexer": "ipython3",
   "version": "3.11.5"
  }
 },
 "nbformat": 4,
 "nbformat_minor": 5
}
